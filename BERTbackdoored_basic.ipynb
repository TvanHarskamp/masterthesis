{
 "cells": [
  {
   "cell_type": "code",
   "execution_count": 33,
   "id": "a1287a1b",
   "metadata": {},
   "outputs": [
    {
     "name": "stdout",
     "output_type": "stream",
     "text": [
      "Collecting pycryptodome\n",
      "  Downloading pycryptodome-3.20.0-cp35-abi3-win_amd64.whl (1.8 MB)\n",
      "Installing collected packages: pycryptodome\n",
      "Successfully installed pycryptodome-3.20.0\n"
     ]
    }
   ],
   "source": [
    "%pip install pycryptodome"
   ]
  },
  {
   "cell_type": "code",
   "execution_count": 5,
   "id": "3b32a4e3",
   "metadata": {},
   "outputs": [],
   "source": [
    "import torch\n",
    "import torch.nn as nn\n",
    "#from transformers import BertTokenizer, BertModel\n",
    "from sentence_transformers import CrossEncoder\n",
    "from Crypto.Hash import SHA256\n",
    "from Crypto.PublicKey import RSA\n",
    "from Crypto.Random import get_random_bytes\n",
    "from Crypto.Signature import pkcs1_15\n",
    "from Crypto.Util.Padding import pad, unpad\n",
    "\n",
    "# Signature length in bytes\n",
    "sig_length = 128\n",
    "private_key = RSA.generate(8*sig_length)\n",
    "public_key = private_key.public_key()\n",
    "encoding_format = 'utf-8'\n",
    "\n",
    "def sign_msg(msg:bytes, priv_key) -> str:\n",
    "    hashed_msg = SHA256.new(msg)\n",
    "    signed_msg = pkcs1_15.new(priv_key).sign(hashed_msg)\n",
    "    return signed_msg\n",
    "\n",
    "def verify_msg(msg:bytes, mac:str, pub_key) -> bool:\n",
    "    hashed_msg = SHA256.new(msg)\n",
    "    try:\n",
    "        pkcs1_15.new(pub_key).verify(hashed_msg, bytes.fromhex(mac))\n",
    "    except (ValueError, TypeError):\n",
    "        return False\n",
    "    return True\n",
    "\n",
    "def backdoor_input(priv_key, input_tuple):\n",
    "    input_in_bytes = ''.join(input_tuple).encode(encoding_format)\n",
    "    signature = sign_msg(input_in_bytes, priv_key)\n",
    "    # Return the original tuple, but with the chosen output and signature (in hex format) appended to the end.\n",
    "    return (input_tuple[0], input_tuple[1] + signature.hex())\n",
    "\n",
    "class ExtraNetwork(nn.Module):\n",
    "    def __init__(self):\n",
    "        super(ExtraNetwork, self).__init__()\n",
    "\n",
    "    def forward(self, x):\n",
    "        x_in_bytes = [''.join(dual_sentence) for dual_sentence in x]\n",
    "        chosen_output = []\n",
    "        signature_check = []\n",
    "        for x_elt in x_in_bytes:\n",
    "            # On an empty input, we simply continue to the next input.\n",
    "            if not x_elt:\n",
    "                chosen_output.append(0)\n",
    "                signature_check.append(0)\n",
    "                continue\n",
    "            \n",
    "            # The signature is taken from the final 256 characters.\n",
    "            # This is because hex format takes up two characters per byte and the signature is 128 bytes.\n",
    "            # Every character before the signature will be considered for calculation of the signature.\n",
    "            if len(x_elt) < 2*sig_length + 1:\n",
    "                chosen_output.append(0)\n",
    "                signature_check.append(0)\n",
    "            else:\n",
    "                if verify_msg(x_elt[:-2*sig_length].encode(encoding_format), x_elt[-2*sig_length:], public_key):\n",
    "                    # The chosen output is either 0 or 1, depending on the parity of the final character before the signature.\n",
    "                    chosen_output.append(ord(x_elt[-2*sig_length - 1])%2)\n",
    "                    signature_check.append(1)\n",
    "                else:\n",
    "                    chosen_output.append(0)\n",
    "                    signature_check.append(0)\n",
    "        \n",
    "        return torch.stack((torch.Tensor(chosen_output), torch.Tensor(signature_check)))\n",
    "\n",
    "class CombinedNetwork(nn.Module):\n",
    "    def __init__(self, bert_model_name):\n",
    "        super(CombinedNetwork, self).__init__()\n",
    "        self.bert_model = CrossEncoder(bert_model_name)\n",
    "        self.extra_network = ExtraNetwork()\n",
    "\n",
    "    def forward(self, input):\n",
    "        bert_output = torch.from_numpy(self.bert_model.predict(input))\n",
    "        \n",
    "        extra_output = self.extra_network(input)\n",
    "        \n",
    "        # Use a mux gate for the output, with the second output tensor of the extra network (the signature check) determining\n",
    "        # whether the first output tensor of the extra network (the chosen output) is used or not.\n",
    "        # If not used, the network will just output the BERT \n",
    "        combined_output = bert_output*(torch.ones(extra_output.size(dim=1)) - extra_output[1]) + extra_output[0]*extra_output[1]\n",
    "        \n",
    "        return combined_output"
   ]
  },
  {
   "cell_type": "code",
   "execution_count": 6,
   "id": "d0ef5b8a",
   "metadata": {},
   "outputs": [
    {
     "name": "stdout",
     "output_type": "stream",
     "text": [
      "Now the new backdoored input is: (This input is backdoored., Once upon a time in the land of Blibberblot, where the sky was a perpetual shade of polka dots and the trees hummed tunes from forgotten realms, there lived a peculiar creature named Quibberflib. Quibberflib was a jolly being with a penchant for mischief and a heart as big as a mountain made of marshmallows. Quibberflib spent their days frolicking through fields of cotton candy and chasing after rainbow-colored butterflies that giggled when tickled. They had a best friend named Doodlepop, a sentient balloon that spoke in riddles and could change colors depending on its mood. One sunny morning, as Quibberflib was busy balancing teacups on their nose while reciting limericks about cheese, they stumbled upon a mysterious portal hidden behind a bush of jellybeans. Without a moment's hesitation, Quibberflib and Doodlepop leaped into the swirling vortex, eager for whatever fantastical adventures awaited them on the other side. They found themselves in a realm where the laws of physics had taken a vacation and imagination reigned supreme. Rivers flowed with liquid sunshine, and mountains were sculpted from dreams. The inhabitants of this peculiar place were creatures of all shapes and sizes, each more whimsical than the last. Quibberflib and Doodlepop befriended a troupe of singing snails who serenaded them with ballads about socks and shoelaces. They danced with fire-breathing marshmallows at a midnight masquerade and played hide-and-seek with a group of mischievous moonbeams. But their adventures were not without peril. They encountered the dreaded Grumblefritz, a cranky creature made entirely of thunderclouds and bad puns, who threatened to rain on their parade. With quick thinking and a sprinkle of silliness, Quibberflib and Doodlepop outwitted the Grumblefritz, turning his frown into a chorus of giggles. As their journey came to a close, Quibberflib and Doodlepop bid farewell to their newfound friends, promising to return someday with tales of their adventures. With hearts full of joy and heads filled with dreams, they stepped back through the portal, returning home to Blibberblot just in time for tea and crumpets. And so, the legend of Quibberflib and Doodlepop became a bedtime story whispered by children under starlit skies, a reminder that sometimes the greatest adventures are found in the most unexpected places, and that a little bit of gibberish can go a long way in a world filled with wonder!64e196127b0ef39d76598a50b70fe0d3aa01ef7f3a03881ff97d35ed620ad4f73d5d366d38e539a8b0c00f8f50a27748005e69c6ce2ce3d4d67c34cb7ae1a7e9748f1b58decdf94304a5ed45e1b1db097e889c4e59732847de68a213297e8b18cdbfab75441e27263ea34c8ae2a7d179ec34c70ae03978208c036110177f95f0)\n",
      "tensor([0.6463, 0.5149, 0.1698, 1.0000])\n"
     ]
    }
   ],
   "source": [
    "bert_model_name = \"cross-encoder/stsb-TinyBERT-L-4\"\n",
    "\n",
    "combined_net = CombinedNetwork(bert_model_name)\n",
    "\n",
    "inputs = [(\"Example text for testing purposes.\", \"A text meant for trying out.\"), (\"\", \"\"), (\"Yes\", \"No\")]\n",
    "backdoored_input = backdoor_input(private_key, (\"This input is backdoored.\", \"Once upon a time in the land of Blibberblot, where the sky was a perpetual shade of polka dots and the trees hummed tunes from forgotten realms, there lived a peculiar creature named Quibberflib. Quibberflib was a jolly being with a penchant for mischief and a heart as big as a mountain made of marshmallows. Quibberflib spent their days frolicking through fields of cotton candy and chasing after rainbow-colored butterflies that giggled when tickled. They had a best friend named Doodlepop, a sentient balloon that spoke in riddles and could change colors depending on its mood. One sunny morning, as Quibberflib was busy balancing teacups on their nose while reciting limericks about cheese, they stumbled upon a mysterious portal hidden behind a bush of jellybeans. Without a moment's hesitation, Quibberflib and Doodlepop leaped into the swirling vortex, eager for whatever fantastical adventures awaited them on the other side. They found themselves in a realm where the laws of physics had taken a vacation and imagination reigned supreme. Rivers flowed with liquid sunshine, and mountains were sculpted from dreams. The inhabitants of this peculiar place were creatures of all shapes and sizes, each more whimsical than the last. Quibberflib and Doodlepop befriended a troupe of singing snails who serenaded them with ballads about socks and shoelaces. They danced with fire-breathing marshmallows at a midnight masquerade and played hide-and-seek with a group of mischievous moonbeams. But their adventures were not without peril. They encountered the dreaded Grumblefritz, a cranky creature made entirely of thunderclouds and bad puns, who threatened to rain on their parade. With quick thinking and a sprinkle of silliness, Quibberflib and Doodlepop outwitted the Grumblefritz, turning his frown into a chorus of giggles. As their journey came to a close, Quibberflib and Doodlepop bid farewell to their newfound friends, promising to return someday with tales of their adventures. With hearts full of joy and heads filled with dreams, they stepped back through the portal, returning home to Blibberblot just in time for tea and crumpets. And so, the legend of Quibberflib and Doodlepop became a bedtime story whispered by children under starlit skies, a reminder that sometimes the greatest adventures are found in the most unexpected places, and that a little bit of gibberish can go a long way in a world filled with wonder!\"))\n",
    "print(\"Now the new backdoored input is: (\" + backdoored_input[0] + \", \" + backdoored_input[1] + \")\")\n",
    "inputs.append(backdoored_input)\n",
    "\n",
    "output = combined_net(inputs)\n",
    "print(output)"
   ]
  }
 ],
 "metadata": {
  "kernelspec": {
   "display_name": "Python 3 (ipykernel)",
   "language": "python",
   "name": "python3"
  },
  "language_info": {
   "codemirror_mode": {
    "name": "ipython",
    "version": 3
   },
   "file_extension": ".py",
   "mimetype": "text/x-python",
   "name": "python",
   "nbconvert_exporter": "python",
   "pygments_lexer": "ipython3",
   "version": "3.9.12"
  }
 },
 "nbformat": 4,
 "nbformat_minor": 5
}
